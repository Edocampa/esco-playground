{
 "cells": [
  {
   "cell_type": "markdown",
   "metadata": {},
   "source": [
    "# Identify ESCO skills in CVs using neural search\n",
    "\n",
    "This notebook uses neural search to identify ESCO skills where `esco:skillType=skill`.\n",
    "Differently from `esco:skillType=knowledge`, these skills are expressed in natural language using multiple words and do not usually contain acronyms.\n",
    "\n",
    "Acronyms can be a problem for some neural search models, as they can be confused with other words.\n",
    "\n"
   ]
  },
  {
   "cell_type": "code",
   "execution_count": 2,
   "metadata": {},
   "outputs": [],
   "source": [
    "import esco\n",
    "import pandas as pd\n",
    "import yaml\n",
    "from pathlib import Path\n",
    "from sentence_transformers import SentenceTransformer\n",
    "\n",
    "skills = esco.load_skills(source=\"json\")"
   ]
  },
  {
   "cell_type": "code",
   "execution_count": 19,
   "metadata": {},
   "outputs": [],
   "source": [
    "# Clean up data files. For example, use a LLM to add a structure to a text CV\n",
    "\n",
    "text = Path(\"rpolli.txt\").read_text()\n",
    "# ... ask openai to Split the following text in consistent blocks. Replace non-ascii characters. Return a json list...\n",
    "text_js = yaml.safe_load(Path(\"rpolli.json\").read_text())"
   ]
  },
  {
   "cell_type": "code",
   "execution_count": 20,
   "metadata": {},
   "outputs": [
    {
     "data": {
      "text/plain": [
       "[(102,\n",
       "  \"{'years': '2005–2007', 'position': 'C developer and system integrator', 'company': 'Babel srl, Rome area', 'details': 'Integrating different communication infrastructures (mail,voip,sms,chat) enhancing various opensource software; from architectural design to software implementation. Maintainer of Caldav4j Libraries. Customization of opensource software (courier-imap, postﬁx, openssl, rrdjtool ..).'}\"),\n",
       " (97,\n",
       "  '{\\'degree\\': \\'Laurea (Master Degree)\\', \\'years\\': \\'1996-2002\\', \\'institution\\': \"University of Rome \\'La Sapienza\\'\", \\'grades\\': \\'110/110\\', \\'major\\': \\'Mathematics\\', \\'skills\\': \\'Geometry, Algebra, Analysis, Physics (Mechanics, Electromagnetism)\\', \\'thesis\\': \\'Arithmetic-Geometric Mean and Algebraic Curves\\', \\'advisor\\': \\'Kieran O’Grady\\'}'),\n",
       " (96,\n",
       "  \"{'years': '2012–2022', 'role': 'EuroPython Speaker/Trainer', 'details': 'I started loving python in 2010 and contributed to various python project, including openstack-shade, openshift-on-openstack templates, python-samba library and the dsadmin ldap framework that is now incorporated in 389ds. Since then I have been selected as a speaker and trainer at Europython for 2012-2022.'}\"),\n",
       " (73,\n",
       "  \"{'years': '2007-', 'role': 'Contributor', 'details': 'Good knowledge of opensource ecosystem learned joining and leading opensource projects. I’ve contributed to various opensource software, including psutil-ng (added thread support to pgrep), dstat, ansible, the MySQL docker image and mysql-utilities, Bedework Calendar Server.'}\"),\n",
       " (73,\n",
       "  \"{'years': '2002–2004', 'position': 'System Administrator', 'company': 'IT Consultant at Alenia Spazio Spa (now Thales Alenia Space)', 'details': 'SysAdmin on all unix ﬂavours (Linux, Tru64, Solaris, AIX, Irix); Backup management and design;'}\"),\n",
       " (73,\n",
       "  \"{'category': 'computer skills', 'subcategories': ['Systems', 'Red Hat Certiﬁed {Virtualization Administrator, Engineer} #110-698-545', 'MongoDB Certiﬁed DBA #618-598-629', 'Oracle MySQL Certiﬁed DBA', 'Linux user since 1998.']}\"),\n",
       " (66,\n",
       "  \"{'years': '2014–Present', 'position': 'Solutions Architect', 'company': 'Planning and reviewing multi-tier, resilient, cloud and enterprise architectures based on open-source components. Principal technologies: OpenStack, OpenShift, Kubernetes, Ansible, JBoss, SOAP and REST webservices, database replication.'}\"),\n",
       " (66,\n",
       "  \"{'years': '2007–2011', 'position': 'Project Leader', 'company': 'Babel srl, Rome area', 'details': 'Manage the delivery of ISP-wide mail systems. I led a team of sysadmins and developers contributing to match the customer requirements in the more standard and open way.'}\"),\n",
       " (65,\n",
       "  \"{'years': '2018', 'position': 'Full-Stack Developer', 'company': 'Par-Tec Spa, Rome', 'details': 'Contributing to the Italian API guidelines interfacing with European agencies and standardization organizations (IETF, W3C). Principal technologies: OpenAPI, REST, HTTP'}\"),\n",
       " (65,\n",
       "  \"{'years': '2004–2005', 'position': 'Security Ofﬁcer', 'companies': ['Sistema Impresa srl, Latina area', 'Edin spa, Turin', 'EuroPython'], 'details': 'Validating the compliance of IT infrastructures to the Italian Privacy Code.'}\"),\n",
       " (61,\n",
       "  '{\\'years\\': \\'1992-1996\\', \\'institution\\': \"Liceo Scientiﬁco \\'E. Majorana\\', Latina\", \\'degree\\': \\'High School Diploma\\', \\'grades\\': \\'60/60\\', \\'major\\': \\'Maturit`a Scientiﬁca\\'}'),\n",
       " (56,\n",
       "  \"{'years': '2007-', 'role': 'CalDAV4j Maintainer', 'details': 'CalDAV4j is the java library implementing RFC4791, the open calendaring protocol implemented between others by Apple Calendar Server, Google and Bedework.'}\"),\n",
       " (51,\n",
       "  \"['Born in Italy, 5 December 1977', 'robipolli@gmail.com', 'https://www.linkedin.com/in/rpolli', 'https://github.com/ioggstream', '+39 340 65 22 736']\"),\n",
       " (50,\n",
       "  \"{'years': '2021', 'position': 'API Expert', 'company': 'Digital Transformation Department - Italian Government, Rome', 'details': 'Fostering a cross-border national API ecosystem. Support Next Generation EU interoperability projects.'}\"),\n",
       " (49,\n",
       "  \"{'years': '2011–2014', 'position': 'Community Manager', 'company': 'Babel srl, Rome area', 'details': 'Fostering community around open source projects created and participated by Babel.'}\"),\n",
       " (44,\n",
       "  \"{'category': 'Network & Storage', 'skills': ['Basic L2 and TCP/IP troubleshooting', 'socket programming', 'LAN/SAN conﬁguration (Netapp, EMC2 and Centera)']}\"),\n",
       " (44,\n",
       "  \"{'category': 'Applications & Middleware', 'technologies': ['Kubernetes', 'Docker', 'OpenStack', 'OpenShift', 'JBoss EAP', 'Ansible\\\\n', 'API Gateways']}\"),\n",
       " (32,\n",
       "  \"{'category': 'Other', 'topics': ['Italian Privacy Law (d.lgs. 196/2003)', 'Software licensing and copyright issues.']}\"),\n",
       " (27,\n",
       "  \"['Good motivational and conﬂict resolution skills. Child educator from 1992 to 1999, Boy Scouting.']\"),\n",
       " (25,\n",
       "  \"{'category': 'Programming', 'languages': ['Python', 'C', 'Java', 'Bash', 'SQL']}\"),\n",
       " (24,\n",
       "  \"{'category': 'Databases', 'databases': ['MongoDB', 'MySQL', 'Oracle', 'Redis']}\"),\n",
       " (22,\n",
       "  \"['Italian · Mothertongue.', 'English · Intermediate (conversationally ﬂuent).']\"),\n",
       " (20, \"{'category': 'Curious about', 'interests': ['NoSQL', 'Data Science']}\"),\n",
       " (18,\n",
       "  \"['Work in the Open-Source world to innovative solutions that bring a real social progress.']\"),\n",
       " (12, \"['+39 340 65 22 736']\"),\n",
       " (11, \"['https://www.linkedin.com/in/rpolli']\"),\n",
       " (9, \"['https://github.com/ioggstream']\"),\n",
       " (9, \"['Literature · Public Administration · Music.']\"),\n",
       " (9, \"['July 26, 2022']\"),\n",
       " (8, \"['robipolli@gmail.com']\")]"
      ]
     },
     "execution_count": 20,
     "metadata": {},
     "output_type": "execute_result"
    }
   ],
   "source": [
    "def tokenize(text_js):\n",
    "  for section in text_js:\n",
    "    content = section.get(\"content\")\n",
    "    if not content:\n",
    "        continue\n",
    "    if isinstance(content[0], dict):\n",
    "        yield from (str(x) for x in content)\n",
    "        continue\n",
    "    yield str(content)\n",
    "\n",
    "# Show some token stats, and ensure they are consistent with the model.\n",
    "cv_tokens = list(tokenize(text_js))\n",
    "import tiktoken\n",
    "enc = tiktoken.encoding_for_model(\"gpt-3.5-turbo\")\n",
    "sorted(((len(enc.encode(x)), x) for x in cv_tokens), reverse=True)"
   ]
  },
  {
   "cell_type": "code",
   "execution_count": null,
   "metadata": {},
   "outputs": [],
   "source": [
    "model = SentenceTransformer('distilbert-base-nli-mean-tokens', device=\"cuda\")\n",
    "print(\"Max Sequence Length:\", model.max_seq_length)\n",
    "\n",
    "# Embed sentences in skills['embeddings']\n",
    "skills['embeddings'] = model.encode(skills['text'], show_progress_bar=True, convert_to_tensor=True)\n"
   ]
  },
  {
   "cell_type": "code",
   "execution_count": null,
   "metadata": {},
   "outputs": [],
   "source": [
    "# Compute embeddings for the CV sections converting them to numpy arrays, so that they are compatible with pandas.\n",
    "embeddings = model.encode(skills.text.values, show_progress_bar=True, convert_to_numpy=True)\n",
    "cv_embeddings = model.encode(cv_tokens, convert_to_numpy=True)\n",
    "\n",
    "# For each CV section, find the most similar skill in the skills database\n",
    "from sklearn.metrics.pairwise import cosine_similarity\n",
    "result = []\n",
    "query_threshold = 0.7\n",
    "for cv_section, cv_emb in zip(cv_tokens, cv_embeddings):\n",
    "        for skill, skillType, emb in zip(skills.label, skills.skillType, skills.embeddings):\n",
    "            if skillType.endswith(\"knowledge\"):\n",
    "                continue\n",
    "            sim = cosine_similarity([cv_emb], [emb])[0][0]\n",
    "            if sim < query_threshold:\n",
    "                continue\n",
    "            result.append({\"text\": cv_section,\"skill\": skill, \"score\": float(sim)})\n",
    "\n",
    "# Save the results.\n",
    "yaml.dump(result, open(\"result.yaml\", \"wt\"))"
   ]
  },
  {
   "cell_type": "code",
   "execution_count": 11,
   "metadata": {},
   "outputs": [],
   "source": [
    "result = yaml.safe_load(Path(\"result.yaml\").read_text())"
   ]
  },
  {
   "cell_type": "code",
   "execution_count": 14,
   "metadata": {},
   "outputs": [],
   "source": [
    "from collections import Counter\n",
    "ret = Counter(x[\"skill\"] for x in result)"
   ]
  },
  {
   "cell_type": "code",
   "execution_count": 18,
   "metadata": {},
   "outputs": [
    {
     "data": {
      "text/plain": [
       "[('manage digital documents', 9),\n",
       " ('use spreadsheets software', 7),\n",
       " ('manage standard enterprise resource planning system', 7),\n",
       " ('manage ICT virtualisation environments', 6),\n",
       " ('provide ICT support', 6),\n",
       " ('use presentation software', 5),\n",
       " ('use online tools to collaborate', 5),\n",
       " ('use personal organization software', 5),\n",
       " ('use databases', 4),\n",
       " ('deploy cloud resource', 3),\n",
       " ('develop with cloud services', 3),\n",
       " ('deploy ICT systems', 3),\n",
       " ('manage digital archives', 3),\n",
       " ('collaborate through digital technologies', 3),\n",
       " ('use markup languages', 3),\n",
       " ('use object-oriented programming', 3),\n",
       " ('use scripting programming', 3),\n",
       " ('use access control software', 3),\n",
       " ('evaluate information services using metrics', 3),\n",
       " ('implement data warehousing techniques', 3),\n",
       " ('manage ICT semantic integration', 3),\n",
       " ('plan migration to cloud', 2),\n",
       " ('monitor ICT research', 2),\n",
       " ('analyse pipeline database information', 2),\n",
       " ('define database physical structure', 2),\n",
       " ('use logic programming', 2),\n",
       " ('operate relational database management system', 2),\n",
       " ('use query languages', 2),\n",
       " ('use functional programming', 2),\n",
       " ('administer ICT system', 2),\n",
       " ('gather data', 2),\n",
       " ('design interaction model', 2),\n",
       " ('implement ICT safety policies', 2),\n",
       " ('use concurrent programming', 2),\n",
       " ('establish data processes', 2),\n",
       " ('do cloud refactoring', 2),\n",
       " ('operate stowage programmes', 2),\n",
       " ('upgrade firmware', 2),\n",
       " ('use ICT hardware', 2),\n",
       " ('use CAM software', 2)]"
      ]
     },
     "execution_count": 18,
     "metadata": {},
     "output_type": "execute_result"
    }
   ],
   "source": [
    "ret.most_common(40)"
   ]
  },
  {
   "cell_type": "code",
   "execution_count": null,
   "metadata": {},
   "outputs": [],
   "source": []
  }
 ],
 "metadata": {
  "kernelspec": {
   "display_name": "Python 3",
   "language": "python",
   "name": "python3"
  },
  "language_info": {
   "codemirror_mode": {
    "name": "ipython",
    "version": 3
   },
   "file_extension": ".py",
   "mimetype": "text/x-python",
   "name": "python",
   "nbconvert_exporter": "python",
   "pygments_lexer": "ipython3",
   "version": "3.11.6"
  }
 },
 "nbformat": 4,
 "nbformat_minor": 2
}
